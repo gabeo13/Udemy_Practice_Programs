{
 "cells": [
  {
   "cell_type": "markdown",
   "metadata": {},
   "source": [
    "# Gabe's Tic Tac Toe"
   ]
  },
  {
   "cell_type": "markdown",
   "metadata": {},
   "source": [
    "### Welcome to Jupyter NB Tic \"Taco\" Toe"
   ]
  },
  {
   "cell_type": "markdown",
   "metadata": {},
   "source": [
    "*My adventures in learning functions and nested loops*"
   ]
  },
  {
   "cell_type": "markdown",
   "metadata": {},
   "source": [
    "**Setup game board as a list along with text-based graphic**"
   ]
  },
  {
   "cell_type": "code",
   "execution_count": null,
   "metadata": {},
   "outputs": [],
   "source": [
    "from IPython.display import clear_output\n",
    "\n",
    "def display_board(board):\n",
    "    clear_output()\n",
    "    \n",
    "    print(' '+board[1]+' '+ '|'+' ' + board[2] +' '+ '|'+' ' + board[3])\n",
    "    print('---|---|---')\n",
    "    print(' '+board[4]+' '+ '|'+' ' + board[5] +' '+ '|'+' ' + board[6])\n",
    "    print('---|---|---')\n",
    "    print(' '+board[7]+' '+ '|'+' ' + board[8] +' '+ '|'+' ' + board[9])"
   ]
  },
  {
   "cell_type": "markdown",
   "metadata": {},
   "source": [
    "**Take in player input and assign letter**"
   ]
  },
  {
   "cell_type": "code",
   "execution_count": null,
   "metadata": {},
   "outputs": [],
   "source": [
    "def player_input():\n",
    "    \n",
    "    pick = ''\n",
    "    \n",
    "    while pick != 'x' and pick != 'o':\n",
    "        \n",
    "        pick = input('The biggest taco lover picks \"X or \"O\": ').lower()\n",
    "        \n",
    "        player_1 = pick\n",
    "        \n",
    "    if player_1 == 'x':\n",
    "        player_2 = 'o'\n",
    "    else:\n",
    "        player_2 = 'x'\n",
    "\n",
    "    return (player_1,player_2)"
   ]
  },
  {
   "cell_type": "code",
   "execution_count": null,
   "metadata": {},
   "outputs": [],
   "source": []
  },
  {
   "cell_type": "markdown",
   "metadata": {},
   "source": [
    "**Compile location information**"
   ]
  },
  {
   "cell_type": "code",
   "execution_count": null,
   "metadata": {},
   "outputs": [],
   "source": [
    "def place_marker(board, marker, position):\n",
    "    board[position] = marker "
   ]
  },
  {
   "cell_type": "markdown",
   "metadata": {},
   "source": [
    "**Win Check**"
   ]
  },
  {
   "cell_type": "code",
   "execution_count": null,
   "metadata": {},
   "outputs": [],
   "source": [
    "def win_check(board, mark):\n",
    "    \n",
    "    return ((board[1] == mark and board[2] == mark and board[3] == mark) or\n",
    "    (board[4] == mark and board [5] == mark and board [6] == mark) or\n",
    "    (board[7] == mark and board [8] == mark and board [9] == mark) or\n",
    "    (board[1] == mark and board [4] == mark and board [7] == mark) or\n",
    "    (board[2] == mark and board [5] == mark and board [8] == mark) or\n",
    "    (board[3] == mark and board [6] == mark and board [9] == mark) or\n",
    "    (board[1] == mark and board [5] == mark and board [9] == mark) or\n",
    "    (board[3] == mark and board [5] == mark and board [7] == mark))"
   ]
  },
  {
   "cell_type": "markdown",
   "metadata": {},
   "source": [
    "**Who goes first?**"
   ]
  },
  {
   "cell_type": "code",
   "execution_count": null,
   "metadata": {},
   "outputs": [],
   "source": [
    "import random\n",
    "\n",
    "def choose_first():\n",
    "    coin_toss = random.randint(1,11)\n",
    "    if coin_toss < 5:\n",
    "        return 'Player 1'\n",
    "    else:\n",
    "        return 'Player 2'"
   ]
  },
  {
   "cell_type": "markdown",
   "metadata": {},
   "source": [
    "**Empty space check**"
   ]
  },
  {
   "cell_type": "code",
   "execution_count": null,
   "metadata": {},
   "outputs": [],
   "source": [
    "def space_check(board, position):\n",
    "    \n",
    "    return board[position] == ' '"
   ]
  },
  {
   "cell_type": "markdown",
   "metadata": {},
   "source": [
    "**Full board check**"
   ]
  },
  {
   "cell_type": "code",
   "execution_count": null,
   "metadata": {},
   "outputs": [],
   "source": [
    "def full_board_check(board):\n",
    "    for i in range(1,10):\n",
    "        if space_check(board,i):\n",
    "            return False\n",
    "    return True "
   ]
  },
  {
   "cell_type": "markdown",
   "metadata": {},
   "source": [
    "**Next Position**"
   ]
  },
  {
   "cell_type": "code",
   "execution_count": null,
   "metadata": {},
   "outputs": [],
   "source": [
    "def player_choice(board):\n",
    "    position = 0\n",
    "    \n",
    "    while position not in [1,2,3,4,5,6,7,8,9] or not space_check(board,position):\n",
    "        position = int(input(\"Please pick your next box (1-9): \"))\n",
    "        \n",
    "    return position"
   ]
  },
  {
   "cell_type": "markdown",
   "metadata": {},
   "source": [
    "**Play Again?**"
   ]
  },
  {
   "cell_type": "code",
   "execution_count": null,
   "metadata": {},
   "outputs": [],
   "source": [
    "def replay():\n",
    "    \n",
    "    play_again = input('Would you like to play again (y/n): ')\n",
    "    if play_again == 'y':\n",
    "        return True\n",
    "    else:\n",
    "        return False"
   ]
  },
  {
   "cell_type": "markdown",
   "metadata": {},
   "source": [
    "## Primary Game Loop"
   ]
  },
  {
   "cell_type": "code",
   "execution_count": null,
   "metadata": {},
   "outputs": [],
   "source": [
    "print('Welcome to Jupyter Tic Taco Toe!')\n",
    "print('Rules:The biggest taco fan will pick a letter, then the game will decide who goes first!')\n",
    "print('Rules:Please use lower case letters for x or o')\n",
    "print('Rules:You will be asked to pick a position from the example grid below to play your letter')\n",
    "\n",
    "display = ['#','1','2','3','4','5','6','7','8','9']\n",
    "\n",
    "print(' '+display[1]+' '+ '|'+' ' + display[2] +' '+ '|'+' ' + display[3])\n",
    "print('---|---|---')\n",
    "print(' '+display[4]+' '+ '|'+' ' + display[5] +' '+ '|'+' ' + display[6])\n",
    "print('---|---|---')\n",
    "print(' '+display[7]+' '+ '|'+' ' + display[8] +' '+ '|'+' ' + display[9])\n",
    "\n",
    "\n",
    "while True:\n",
    "    # Reset the board\n",
    "    gameboard = [' '] * 10\n",
    "    player1_marker, player2_marker = player_input()\n",
    "    turn = choose_first()\n",
    "    print(turn + ' has won the coin toss!!!')\n",
    "    \n",
    "    ru_ready = input('Are you ready to play? Enter Yes or No.')\n",
    "    \n",
    "    if ru_ready.lower()[0] == 'y':\n",
    "        ru_ready = True\n",
    "    else:\n",
    "        ru_ready = False\n",
    "\n",
    "    while ru_ready:\n",
    "        if turn == 'Player 1':\n",
    "            # Player1's turn.\n",
    "            \n",
    "            #Show the game board\n",
    "            display_board(gameboard)\n",
    "            #choose a box on board\n",
    "            position = player_choice(gameboard)\n",
    "            #place letter in box on board\n",
    "            place_marker(gameboard, player1_marker, position)\n",
    "                       \n",
    "            #did player win\n",
    "            if win_check(gameboard, player1_marker):\n",
    "                display_board(gameboard)\n",
    "                print('Congratulations! You have won the TACOS!')\n",
    "            ru_ready = False\n",
    "            #did player tie\n",
    "            else:\n",
    "                if full_board_check(gameboard):\n",
    "                    display_board(gameboard)\n",
    "                    print('The game is a draw!')\n",
    "                    break\n",
    "                #on to the next one\n",
    "                else:\n",
    "                    turn = 'Player 2'\n",
    "\n",
    "        else:\n",
    "            # Player2's turn.\n",
    "            \n",
    "            display_board(gameboard)\n",
    "            position = player_choice(gameboard)\n",
    "            place_marker(gameboard, player2_marker, position)\n",
    "\n",
    "            if win_check(gameboard, player2_marker):\n",
    "                display_board(gameboard)\n",
    "                print('Congratulations! You have won the TACOS!')\n",
    "                ru_ready = False\n",
    "            else:\n",
    "                if full_board_check(gameboard):\n",
    "                    display_board(gameboard)\n",
    "                    print('The game is a draw!')\n",
    "                    break\n",
    "                else:\n",
    "                    turn = 'Player 1'\n",
    "\n",
    "    if not replay():\n",
    "        break"
   ]
  },
  {
   "cell_type": "code",
   "execution_count": null,
   "metadata": {},
   "outputs": [],
   "source": [
    "\n"
   ]
  }
 ],
 "metadata": {
  "kernelspec": {
   "display_name": "Python 3",
   "language": "python",
   "name": "python3"
  },
  "language_info": {
   "codemirror_mode": {
    "name": "ipython",
    "version": 3
   },
   "file_extension": ".py",
   "mimetype": "text/x-python",
   "name": "python",
   "nbconvert_exporter": "python",
   "pygments_lexer": "ipython3",
   "version": "3.7.6"
  }
 },
 "nbformat": 4,
 "nbformat_minor": 4
}
